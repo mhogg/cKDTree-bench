{
 "cells": [
  {
   "cell_type": "markdown",
   "metadata": {},
   "source": [
    "# Timing SciPy's compiled kd-tree algorithms"
   ]
  },
  {
   "cell_type": "markdown",
   "metadata": {},
   "source": [
    "**System**:\n",
    "- MacBook Pro, early 2013\n",
    "- 2.4 GHz Intel core i7, 8 GB RAM\n",
    "- MacOS X 10.9.5\n",
    "- Python 3.4.2 :: Anaconda 2.1.0 (x86_64)\n",
    "\n",
    "Create some random data:"
   ]
  },
  {
   "cell_type": "code",
   "execution_count": 1,
   "metadata": {
    "collapsed": true
   },
   "outputs": [],
   "source": [
    "import numpy as np\n",
    "from sklearn.datasets import make_classification\n",
    "data0,y = make_classification(n_samples=10000)\n",
    "data1,z = make_classification(n_samples=10000)"
   ]
  },
  {
   "cell_type": "code",
   "execution_count": 2,
   "metadata": {
    "collapsed": true
   },
   "outputs": [],
   "source": [
    "from ckdtreebench import spatial_015\n",
    "from ckdtreebench import spatial_016\n",
    "from ckdtreebench import spatial_PR4890"
   ]
  },
  {
   "cell_type": "markdown",
   "metadata": {},
   "source": [
    "## Benchmark kd-tree construction"
   ]
  },
  {
   "cell_type": "markdown",
   "metadata": {},
   "source": [
    "####SciPy 0.15.x"
   ]
  },
  {
   "cell_type": "code",
   "execution_count": 3,
   "metadata": {
    "collapsed": false
   },
   "outputs": [
    {
     "name": "stdout",
     "output_type": "stream",
     "text": [
      "100 loops, best of 3: 2.59 ms per loop\n"
     ]
    }
   ],
   "source": [
    "%timeit spatial_015.cKDTree(data0)"
   ]
  },
  {
   "cell_type": "markdown",
   "metadata": {},
   "source": [
    "####SciPy 0.16.x"
   ]
  },
  {
   "cell_type": "code",
   "execution_count": 4,
   "metadata": {
    "collapsed": false
   },
   "outputs": [
    {
     "name": "stdout",
     "output_type": "stream",
     "text": [
      "100 loops, best of 3: 4.57 ms per loop\n"
     ]
    }
   ],
   "source": [
    "%timeit spatial_016.cKDTree(data0, balanced_tree=False)"
   ]
  },
  {
   "cell_type": "code",
   "execution_count": 5,
   "metadata": {
    "collapsed": false
   },
   "outputs": [
    {
     "name": "stdout",
     "output_type": "stream",
     "text": [
      "100 loops, best of 3: 5.62 ms per loop\n"
     ]
    }
   ],
   "source": [
    "%timeit spatial_016.cKDTree(data0, balanced_tree=True)"
   ]
  },
  {
   "cell_type": "markdown",
   "metadata": {},
   "source": [
    "####PR4890"
   ]
  },
  {
   "cell_type": "code",
   "execution_count": 6,
   "metadata": {
    "collapsed": false
   },
   "outputs": [
    {
     "name": "stdout",
     "output_type": "stream",
     "text": [
      "100 loops, best of 3: 4.47 ms per loop\n"
     ]
    }
   ],
   "source": [
    "%timeit spatial_PR4890.cKDTree(data0, balanced_tree=False)"
   ]
  },
  {
   "cell_type": "code",
   "execution_count": 7,
   "metadata": {
    "collapsed": false
   },
   "outputs": [
    {
     "name": "stdout",
     "output_type": "stream",
     "text": [
      "100 loops, best of 3: 5.56 ms per loop\n"
     ]
    }
   ],
   "source": [
    "%timeit spatial_PR4890.cKDTree(data0, balanced_tree=True)"
   ]
  },
  {
   "cell_type": "markdown",
   "metadata": {},
   "source": [
    "##Benchmark k-NN ```query```"
   ]
  },
  {
   "cell_type": "markdown",
   "metadata": {},
   "source": [
    "####SciPy 0.15.x - sliding midpoint"
   ]
  },
  {
   "cell_type": "code",
   "execution_count": 8,
   "metadata": {
    "collapsed": true
   },
   "outputs": [],
   "source": [
    "kdtree = spatial_015.cKDTree(data0)"
   ]
  },
  {
   "cell_type": "code",
   "execution_count": 9,
   "metadata": {
    "collapsed": false
   },
   "outputs": [
    {
     "name": "stdout",
     "output_type": "stream",
     "text": [
      "1 loops, best of 3: 7.05 s per loop\n"
     ]
    }
   ],
   "source": [
    "%timeit kdtree.query(data1, k=5)"
   ]
  },
  {
   "cell_type": "markdown",
   "metadata": {},
   "source": [
    "####SciPy 0.16.x - sliding midpoint"
   ]
  },
  {
   "cell_type": "code",
   "execution_count": 10,
   "metadata": {
    "collapsed": true
   },
   "outputs": [],
   "source": [
    "kdtree = spatial_016.cKDTree(data0, balanced_tree=False)"
   ]
  },
  {
   "cell_type": "code",
   "execution_count": 11,
   "metadata": {
    "collapsed": false
   },
   "outputs": [
    {
     "name": "stdout",
     "output_type": "stream",
     "text": [
      "1 loops, best of 3: 3.28 s per loop\n"
     ]
    }
   ],
   "source": [
    "%timeit kdtree.query(data1, k=5)"
   ]
  },
  {
   "cell_type": "code",
   "execution_count": 12,
   "metadata": {
    "collapsed": false
   },
   "outputs": [
    {
     "name": "stdout",
     "output_type": "stream",
     "text": [
      "1 loops, best of 3: 694 ms per loop\n"
     ]
    }
   ],
   "source": [
    "%timeit kdtree.query(data1, k=5, n_jobs=-1)"
   ]
  },
  {
   "cell_type": "markdown",
   "metadata": {},
   "source": [
    "####SciPy 0.16.x - median"
   ]
  },
  {
   "cell_type": "code",
   "execution_count": 13,
   "metadata": {
    "collapsed": true
   },
   "outputs": [],
   "source": [
    "kdtree = spatial_016.cKDTree(data0, balanced_tree=True)"
   ]
  },
  {
   "cell_type": "code",
   "execution_count": 14,
   "metadata": {
    "collapsed": false
   },
   "outputs": [
    {
     "name": "stdout",
     "output_type": "stream",
     "text": [
      "1 loops, best of 3: 3.4 s per loop\n"
     ]
    }
   ],
   "source": [
    "%timeit kdtree.query(data1, k=5)"
   ]
  },
  {
   "cell_type": "code",
   "execution_count": 15,
   "metadata": {
    "collapsed": false
   },
   "outputs": [
    {
     "name": "stdout",
     "output_type": "stream",
     "text": [
      "1 loops, best of 3: 716 ms per loop\n"
     ]
    }
   ],
   "source": [
    "%timeit kdtree.query(data1, k=5, n_jobs=-1)"
   ]
  },
  {
   "cell_type": "markdown",
   "metadata": {},
   "source": [
    "####PR4890 - sliding midpoint"
   ]
  },
  {
   "cell_type": "code",
   "execution_count": 16,
   "metadata": {
    "collapsed": true
   },
   "outputs": [],
   "source": [
    "kdtree = spatial_PR4890.cKDTree(data0, balanced_tree=False)"
   ]
  },
  {
   "cell_type": "code",
   "execution_count": 17,
   "metadata": {
    "collapsed": false
   },
   "outputs": [
    {
     "name": "stdout",
     "output_type": "stream",
     "text": [
      "1 loops, best of 3: 3.23 s per loop\n"
     ]
    }
   ],
   "source": [
    "%timeit kdtree.query(data1, k=5)"
   ]
  },
  {
   "cell_type": "code",
   "execution_count": 18,
   "metadata": {
    "collapsed": false
   },
   "outputs": [
    {
     "name": "stdout",
     "output_type": "stream",
     "text": [
      "1 loops, best of 3: 690 ms per loop\n"
     ]
    }
   ],
   "source": [
    "%timeit kdtree.query(data1, k=5, n_jobs=-1)"
   ]
  },
  {
   "cell_type": "markdown",
   "metadata": {},
   "source": [
    "####PR4890 - median"
   ]
  },
  {
   "cell_type": "code",
   "execution_count": 19,
   "metadata": {
    "collapsed": true
   },
   "outputs": [],
   "source": [
    "kdtree = spatial_PR4890.cKDTree(data0, balanced_tree=True)"
   ]
  },
  {
   "cell_type": "code",
   "execution_count": 20,
   "metadata": {
    "collapsed": false
   },
   "outputs": [
    {
     "name": "stdout",
     "output_type": "stream",
     "text": [
      "1 loops, best of 3: 3.35 s per loop\n"
     ]
    }
   ],
   "source": [
    "%timeit kdtree.query(data1, k=5)"
   ]
  },
  {
   "cell_type": "code",
   "execution_count": 21,
   "metadata": {
    "collapsed": false
   },
   "outputs": [
    {
     "name": "stdout",
     "output_type": "stream",
     "text": [
      "1 loops, best of 3: 714 ms per loop\n"
     ]
    }
   ],
   "source": [
    "%timeit kdtree.query(data1, k=5, n_jobs=-1)"
   ]
  },
  {
   "cell_type": "markdown",
   "metadata": {},
   "source": [
    "##Benchmark ```query_ball_point```"
   ]
  },
  {
   "cell_type": "markdown",
   "metadata": {},
   "source": [
    "####SciPy 0.15.x - sliding midpoint"
   ]
  },
  {
   "cell_type": "code",
   "execution_count": 22,
   "metadata": {
    "collapsed": true
   },
   "outputs": [],
   "source": [
    "kdtree = spatial_015.cKDTree(data0)"
   ]
  },
  {
   "cell_type": "code",
   "execution_count": 23,
   "metadata": {
    "collapsed": false
   },
   "outputs": [
    {
     "name": "stdout",
     "output_type": "stream",
     "text": [
      "1 loops, best of 3: 7.81 s per loop\n"
     ]
    }
   ],
   "source": [
    "%timeit kdtree.query_ball_point(data1,4.0)"
   ]
  },
  {
   "cell_type": "markdown",
   "metadata": {},
   "source": [
    "####SciPy 0.16.x - sliding midpoint"
   ]
  },
  {
   "cell_type": "code",
   "execution_count": 24,
   "metadata": {
    "collapsed": true
   },
   "outputs": [],
   "source": [
    "kdtree = spatial_016.cKDTree(data0, balanced_tree=False)"
   ]
  },
  {
   "cell_type": "code",
   "execution_count": 25,
   "metadata": {
    "collapsed": false
   },
   "outputs": [
    {
     "name": "stdout",
     "output_type": "stream",
     "text": [
      "1 loops, best of 3: 5.52 s per loop\n"
     ]
    }
   ],
   "source": [
    "%timeit kdtree.query_ball_point(data1,4.0)"
   ]
  },
  {
   "cell_type": "markdown",
   "metadata": {},
   "source": [
    "####SciPy 0.16.x - median"
   ]
  },
  {
   "cell_type": "code",
   "execution_count": 26,
   "metadata": {
    "collapsed": true
   },
   "outputs": [],
   "source": [
    "kdtree = spatial_016.cKDTree(data0, balanced_tree=True)"
   ]
  },
  {
   "cell_type": "code",
   "execution_count": 27,
   "metadata": {
    "collapsed": false
   },
   "outputs": [
    {
     "name": "stdout",
     "output_type": "stream",
     "text": [
      "1 loops, best of 3: 5.64 s per loop\n"
     ]
    }
   ],
   "source": [
    "%timeit kdtree.query_ball_point(data1,4.0)"
   ]
  },
  {
   "cell_type": "markdown",
   "metadata": {},
   "source": [
    "####PR4890 - sliding midpoint"
   ]
  },
  {
   "cell_type": "code",
   "execution_count": 28,
   "metadata": {
    "collapsed": false
   },
   "outputs": [],
   "source": [
    "kdtree = spatial_PR4890.cKDTree(data0, balanced_tree=False)"
   ]
  },
  {
   "cell_type": "code",
   "execution_count": 29,
   "metadata": {
    "collapsed": false
   },
   "outputs": [
    {
     "name": "stdout",
     "output_type": "stream",
     "text": [
      "1 loops, best of 3: 4.52 s per loop\n"
     ]
    }
   ],
   "source": [
    "%timeit kdtree.query_ball_point(data1,4.0)"
   ]
  },
  {
   "cell_type": "code",
   "execution_count": 30,
   "metadata": {
    "collapsed": false
   },
   "outputs": [
    {
     "name": "stdout",
     "output_type": "stream",
     "text": [
      "1 loops, best of 3: 1.16 s per loop\n"
     ]
    }
   ],
   "source": [
    "%timeit kdtree.query_ball_point(data1,4.0,n_jobs=-1)"
   ]
  },
  {
   "cell_type": "markdown",
   "metadata": {},
   "source": [
    "####PR4890 - median"
   ]
  },
  {
   "cell_type": "code",
   "execution_count": 31,
   "metadata": {
    "collapsed": true
   },
   "outputs": [],
   "source": [
    "kdtree = spatial_PR4890.cKDTree(data0, balanced_tree=True)"
   ]
  },
  {
   "cell_type": "code",
   "execution_count": 32,
   "metadata": {
    "collapsed": false
   },
   "outputs": [
    {
     "name": "stdout",
     "output_type": "stream",
     "text": [
      "1 loops, best of 3: 4.7 s per loop\n"
     ]
    }
   ],
   "source": [
    "%timeit kdtree.query_ball_point(data1,4.0)"
   ]
  },
  {
   "cell_type": "code",
   "execution_count": 33,
   "metadata": {
    "collapsed": false
   },
   "outputs": [
    {
     "name": "stdout",
     "output_type": "stream",
     "text": [
      "1 loops, best of 3: 1.23 s per loop\n"
     ]
    }
   ],
   "source": [
    "%timeit kdtree.query_ball_point(data1,4.0,n_jobs=-1)"
   ]
  },
  {
   "cell_type": "markdown",
   "metadata": {},
   "source": [
    "##Benchmark ```query_ball_tree```"
   ]
  },
  {
   "cell_type": "markdown",
   "metadata": {},
   "source": [
    "####SciPy 0.15.x - sliding midpoint"
   ]
  },
  {
   "cell_type": "code",
   "execution_count": 34,
   "metadata": {
    "collapsed": true
   },
   "outputs": [],
   "source": [
    "kdtree = spatial_015.cKDTree(data0)\n",
    "other = spatial_015.cKDTree(data1)"
   ]
  },
  {
   "cell_type": "code",
   "execution_count": 35,
   "metadata": {
    "collapsed": false
   },
   "outputs": [
    {
     "name": "stdout",
     "output_type": "stream",
     "text": [
      "1 loops, best of 3: 3.6 s per loop\n"
     ]
    }
   ],
   "source": [
    "%timeit kdtree.query_ball_tree(other,4.0)"
   ]
  },
  {
   "cell_type": "markdown",
   "metadata": {},
   "source": [
    "####SciPy 0.16.x - sliding midpoint"
   ]
  },
  {
   "cell_type": "code",
   "execution_count": 36,
   "metadata": {
    "collapsed": true
   },
   "outputs": [],
   "source": [
    "kdtree = spatial_016.cKDTree(data0, balanced_tree=False)\n",
    "other = spatial_016.cKDTree(data1, balanced_tree=False)"
   ]
  },
  {
   "cell_type": "code",
   "execution_count": 37,
   "metadata": {
    "collapsed": false
   },
   "outputs": [
    {
     "name": "stdout",
     "output_type": "stream",
     "text": [
      "1 loops, best of 3: 2.68 s per loop\n"
     ]
    }
   ],
   "source": [
    "%timeit kdtree.query_ball_tree(other,4.0)"
   ]
  },
  {
   "cell_type": "markdown",
   "metadata": {},
   "source": [
    "####SciPy 0.16.x - median"
   ]
  },
  {
   "cell_type": "code",
   "execution_count": 38,
   "metadata": {
    "collapsed": true
   },
   "outputs": [],
   "source": [
    "kdtree = spatial_016.cKDTree(data0, balanced_tree=True)\n",
    "other = spatial_016.cKDTree(data1, balanced_tree=True)"
   ]
  },
  {
   "cell_type": "code",
   "execution_count": 39,
   "metadata": {
    "collapsed": false
   },
   "outputs": [
    {
     "name": "stdout",
     "output_type": "stream",
     "text": [
      "1 loops, best of 3: 3.05 s per loop\n"
     ]
    }
   ],
   "source": [
    "%timeit kdtree.query_ball_tree(other,4.0)"
   ]
  },
  {
   "cell_type": "markdown",
   "metadata": {},
   "source": [
    "####PR4890 - sliding midpoint"
   ]
  },
  {
   "cell_type": "code",
   "execution_count": 40,
   "metadata": {
    "collapsed": true
   },
   "outputs": [],
   "source": [
    "kdtree = spatial_PR4890.cKDTree(data0, balanced_tree=False)\n",
    "other = spatial_PR4890.cKDTree(data1, balanced_tree=False)"
   ]
  },
  {
   "cell_type": "code",
   "execution_count": 41,
   "metadata": {
    "collapsed": false
   },
   "outputs": [
    {
     "name": "stdout",
     "output_type": "stream",
     "text": [
      "1 loops, best of 3: 2.65 s per loop\n"
     ]
    }
   ],
   "source": [
    "%timeit kdtree.query_ball_tree(other,4.0)"
   ]
  },
  {
   "cell_type": "markdown",
   "metadata": {},
   "source": [
    "####PR4890 - median"
   ]
  },
  {
   "cell_type": "code",
   "execution_count": 42,
   "metadata": {
    "collapsed": true
   },
   "outputs": [],
   "source": [
    "kdtree = spatial_PR4890.cKDTree(data0, balanced_tree=True)\n",
    "other = spatial_PR4890.cKDTree(data1, balanced_tree=True)"
   ]
  },
  {
   "cell_type": "code",
   "execution_count": 43,
   "metadata": {
    "collapsed": false
   },
   "outputs": [
    {
     "name": "stdout",
     "output_type": "stream",
     "text": [
      "1 loops, best of 3: 2.7 s per loop\n"
     ]
    }
   ],
   "source": [
    "%timeit kdtree.query_ball_tree(other,4.0)"
   ]
  },
  {
   "cell_type": "markdown",
   "metadata": {},
   "source": [
    "##Benchmark ```count_neighbors```"
   ]
  },
  {
   "cell_type": "markdown",
   "metadata": {},
   "source": [
    "####SciPy 0.15.x - sliding midpoint"
   ]
  },
  {
   "cell_type": "code",
   "execution_count": 44,
   "metadata": {
    "collapsed": true
   },
   "outputs": [],
   "source": [
    "kdtree = spatial_015.cKDTree(data0)\n",
    "other = spatial_015.cKDTree(data1)"
   ]
  },
  {
   "cell_type": "code",
   "execution_count": 45,
   "metadata": {
    "collapsed": false
   },
   "outputs": [
    {
     "name": "stdout",
     "output_type": "stream",
     "text": [
      "1 loops, best of 3: 14 s per loop\n"
     ]
    }
   ],
   "source": [
    "%timeit kdtree.count_neighbors(other,4.0)"
   ]
  },
  {
   "cell_type": "markdown",
   "metadata": {},
   "source": [
    "####SciPy 0.16.x - sliding midpoint"
   ]
  },
  {
   "cell_type": "code",
   "execution_count": 46,
   "metadata": {
    "collapsed": true
   },
   "outputs": [],
   "source": [
    "kdtree = spatial_016.cKDTree(data0, balanced_tree=False)\n",
    "other = spatial_016.cKDTree(data1, balanced_tree=False)"
   ]
  },
  {
   "cell_type": "code",
   "execution_count": 47,
   "metadata": {
    "collapsed": false
   },
   "outputs": [
    {
     "name": "stdout",
     "output_type": "stream",
     "text": [
      "1 loops, best of 3: 5.99 s per loop\n"
     ]
    }
   ],
   "source": [
    "%timeit kdtree.count_neighbors(other,4.0)"
   ]
  },
  {
   "cell_type": "markdown",
   "metadata": {},
   "source": [
    "####SciPy 0.16.x - median"
   ]
  },
  {
   "cell_type": "code",
   "execution_count": 48,
   "metadata": {
    "collapsed": true
   },
   "outputs": [],
   "source": [
    "kdtree = spatial_016.cKDTree(data0, balanced_tree=True)\n",
    "other = spatial_016.cKDTree(data1, balanced_tree=True)"
   ]
  },
  {
   "cell_type": "code",
   "execution_count": 49,
   "metadata": {
    "collapsed": false
   },
   "outputs": [
    {
     "name": "stdout",
     "output_type": "stream",
     "text": [
      "1 loops, best of 3: 5.87 s per loop\n"
     ]
    }
   ],
   "source": [
    "%timeit kdtree.count_neighbors(other,4.0)"
   ]
  },
  {
   "cell_type": "markdown",
   "metadata": {},
   "source": [
    "####PR4890 - sliding midpoint"
   ]
  },
  {
   "cell_type": "code",
   "execution_count": 50,
   "metadata": {
    "collapsed": true
   },
   "outputs": [],
   "source": [
    "kdtree = spatial_PR4890.cKDTree(data0, balanced_tree=False)\n",
    "other = spatial_PR4890.cKDTree(data1, balanced_tree=False)"
   ]
  },
  {
   "cell_type": "code",
   "execution_count": 51,
   "metadata": {
    "collapsed": false
   },
   "outputs": [
    {
     "name": "stdout",
     "output_type": "stream",
     "text": [
      "1 loops, best of 3: 2.48 s per loop\n"
     ]
    }
   ],
   "source": [
    "%timeit kdtree.count_neighbors(other,4.0)"
   ]
  },
  {
   "cell_type": "markdown",
   "metadata": {},
   "source": [
    "####PR4890 - median"
   ]
  },
  {
   "cell_type": "code",
   "execution_count": 52,
   "metadata": {
    "collapsed": true
   },
   "outputs": [],
   "source": [
    "kdtree = spatial_PR4890.cKDTree(data0, balanced_tree=True)\n",
    "other = spatial_PR4890.cKDTree(data1, balanced_tree=True)"
   ]
  },
  {
   "cell_type": "code",
   "execution_count": 53,
   "metadata": {
    "collapsed": false
   },
   "outputs": [
    {
     "name": "stdout",
     "output_type": "stream",
     "text": [
      "1 loops, best of 3: 2.52 s per loop\n"
     ]
    }
   ],
   "source": [
    "%timeit kdtree.count_neighbors(other,4.0)"
   ]
  },
  {
   "cell_type": "markdown",
   "metadata": {},
   "source": [
    "##Benchmark ```query_pairs``` "
   ]
  },
  {
   "cell_type": "markdown",
   "metadata": {},
   "source": [
    "####SciPy 0.15.x - sliding midpoint"
   ]
  },
  {
   "cell_type": "code",
   "execution_count": 54,
   "metadata": {
    "collapsed": true
   },
   "outputs": [],
   "source": [
    "kdtree = spatial_015.cKDTree(data0)"
   ]
  },
  {
   "cell_type": "code",
   "execution_count": 55,
   "metadata": {
    "collapsed": false
   },
   "outputs": [
    {
     "name": "stdout",
     "output_type": "stream",
     "text": [
      "1 loops, best of 3: 2 s per loop\n"
     ]
    }
   ],
   "source": [
    "%timeit kdtree.query_pairs(4.0)"
   ]
  },
  {
   "cell_type": "markdown",
   "metadata": {},
   "source": [
    "####SciPy 0.16.x - sliding midpoint"
   ]
  },
  {
   "cell_type": "code",
   "execution_count": 56,
   "metadata": {
    "collapsed": true
   },
   "outputs": [],
   "source": [
    "kdtree = spatial_016.cKDTree(data0, balanced_tree=False)"
   ]
  },
  {
   "cell_type": "code",
   "execution_count": 57,
   "metadata": {
    "collapsed": false
   },
   "outputs": [
    {
     "name": "stdout",
     "output_type": "stream",
     "text": [
      "1 loops, best of 3: 1.45 s per loop\n"
     ]
    }
   ],
   "source": [
    "%timeit kdtree.query_pairs(4.0)"
   ]
  },
  {
   "cell_type": "markdown",
   "metadata": {},
   "source": [
    "####SciPy 0.16.x - median"
   ]
  },
  {
   "cell_type": "code",
   "execution_count": 58,
   "metadata": {
    "collapsed": true
   },
   "outputs": [],
   "source": [
    "kdtree = spatial_016.cKDTree(data0, balanced_tree=True)"
   ]
  },
  {
   "cell_type": "code",
   "execution_count": 59,
   "metadata": {
    "collapsed": false
   },
   "outputs": [
    {
     "name": "stdout",
     "output_type": "stream",
     "text": [
      "1 loops, best of 3: 1.51 s per loop\n"
     ]
    }
   ],
   "source": [
    "%timeit kdtree.query_pairs(4.0)"
   ]
  },
  {
   "cell_type": "markdown",
   "metadata": {},
   "source": [
    "####PR4890 - sliding midpoint"
   ]
  },
  {
   "cell_type": "code",
   "execution_count": 60,
   "metadata": {
    "collapsed": true
   },
   "outputs": [],
   "source": [
    "kdtree = spatial_PR4890.cKDTree(data0, balanced_tree=False)"
   ]
  },
  {
   "cell_type": "code",
   "execution_count": 61,
   "metadata": {
    "collapsed": false
   },
   "outputs": [
    {
     "name": "stdout",
     "output_type": "stream",
     "text": [
      "1 loops, best of 3: 1.45 s per loop\n"
     ]
    }
   ],
   "source": [
    "%timeit kdtree.query_pairs(4.0, output_type='set')"
   ]
  },
  {
   "cell_type": "code",
   "execution_count": 62,
   "metadata": {
    "collapsed": false
   },
   "outputs": [
    {
     "name": "stdout",
     "output_type": "stream",
     "text": [
      "1 loops, best of 3: 1.28 s per loop\n"
     ]
    }
   ],
   "source": [
    "%timeit kdtree.query_pairs(4.0, output_type='ndarray')"
   ]
  },
  {
   "cell_type": "markdown",
   "metadata": {},
   "source": [
    "####PR4890 - median"
   ]
  },
  {
   "cell_type": "code",
   "execution_count": 63,
   "metadata": {
    "collapsed": true
   },
   "outputs": [],
   "source": [
    "kdtree = spatial_PR4890.cKDTree(data0, balanced_tree=True)"
   ]
  },
  {
   "cell_type": "code",
   "execution_count": 64,
   "metadata": {
    "collapsed": false
   },
   "outputs": [
    {
     "name": "stdout",
     "output_type": "stream",
     "text": [
      "1 loops, best of 3: 1.48 s per loop\n"
     ]
    }
   ],
   "source": [
    "%timeit kdtree.query_pairs(4.0, output_type='set')"
   ]
  },
  {
   "cell_type": "code",
   "execution_count": 65,
   "metadata": {
    "collapsed": false
   },
   "outputs": [
    {
     "name": "stdout",
     "output_type": "stream",
     "text": [
      "1 loops, best of 3: 1.32 s per loop\n"
     ]
    }
   ],
   "source": [
    "%timeit kdtree.query_pairs(4.0, output_type='ndarray')"
   ]
  },
  {
   "cell_type": "markdown",
   "metadata": {},
   "source": [
    "##Benchmark ```sparse_distance_matrix```"
   ]
  },
  {
   "cell_type": "markdown",
   "metadata": {},
   "source": [
    "####SciPy 0.15.x - sliding midpoint"
   ]
  },
  {
   "cell_type": "code",
   "execution_count": 66,
   "metadata": {
    "collapsed": true
   },
   "outputs": [],
   "source": [
    "kdtree = spatial_015.cKDTree(data0)\n",
    "other = spatial_015.cKDTree(data1)"
   ]
  },
  {
   "cell_type": "code",
   "execution_count": 67,
   "metadata": {
    "collapsed": false
   },
   "outputs": [
    {
     "name": "stdout",
     "output_type": "stream",
     "text": [
      "1 loops, best of 3: 4.07 s per loop\n"
     ]
    }
   ],
   "source": [
    "%timeit kdtree.sparse_distance_matrix(other, 4.0)"
   ]
  },
  {
   "cell_type": "markdown",
   "metadata": {},
   "source": [
    "####SciPy 0.16.x - sliding midpoint"
   ]
  },
  {
   "cell_type": "code",
   "execution_count": 68,
   "metadata": {
    "collapsed": true
   },
   "outputs": [],
   "source": [
    "kdtree = spatial_016.cKDTree(data0, balanced_tree=False)\n",
    "other = spatial_016.cKDTree(data1, balanced_tree=False)"
   ]
  },
  {
   "cell_type": "code",
   "execution_count": 69,
   "metadata": {
    "collapsed": false
   },
   "outputs": [
    {
     "name": "stdout",
     "output_type": "stream",
     "text": [
      "1 loops, best of 3: 3.12 s per loop\n"
     ]
    }
   ],
   "source": [
    "%timeit kdtree.sparse_distance_matrix(other, 4.0)"
   ]
  },
  {
   "cell_type": "markdown",
   "metadata": {},
   "source": [
    "####SciPy 0.16.x - median"
   ]
  },
  {
   "cell_type": "code",
   "execution_count": 70,
   "metadata": {
    "collapsed": true
   },
   "outputs": [],
   "source": [
    "kdtree = spatial_016.cKDTree(data0, balanced_tree=True)\n",
    "other = spatial_016.cKDTree(data1, balanced_tree=True)"
   ]
  },
  {
   "cell_type": "code",
   "execution_count": 71,
   "metadata": {
    "collapsed": false
   },
   "outputs": [
    {
     "name": "stdout",
     "output_type": "stream",
     "text": [
      "1 loops, best of 3: 3.14 s per loop\n"
     ]
    }
   ],
   "source": [
    "%timeit kdtree.sparse_distance_matrix(other, 4.0)"
   ]
  },
  {
   "cell_type": "markdown",
   "metadata": {},
   "source": [
    "####PR4890 - sliding midpoint"
   ]
  },
  {
   "cell_type": "code",
   "execution_count": 72,
   "metadata": {
    "collapsed": true
   },
   "outputs": [],
   "source": [
    "kdtree = spatial_PR4890.cKDTree(data0, balanced_tree=False)\n",
    "other = spatial_PR4890.cKDTree(data1, balanced_tree=False)"
   ]
  },
  {
   "cell_type": "code",
   "execution_count": 73,
   "metadata": {
    "collapsed": false
   },
   "outputs": [
    {
     "name": "stdout",
     "output_type": "stream",
     "text": [
      "1 loops, best of 3: 3.11 s per loop\n"
     ]
    }
   ],
   "source": [
    "%timeit kdtree.sparse_distance_matrix(other, 4.0, output_type='dok_matrix')"
   ]
  },
  {
   "cell_type": "code",
   "execution_count": 74,
   "metadata": {
    "collapsed": false
   },
   "outputs": [
    {
     "name": "stdout",
     "output_type": "stream",
     "text": [
      "1 loops, best of 3: 2.52 s per loop\n"
     ]
    }
   ],
   "source": [
    "%timeit kdtree.sparse_distance_matrix(other, 4.0, output_type='coo_matrix')"
   ]
  },
  {
   "cell_type": "code",
   "execution_count": 75,
   "metadata": {
    "collapsed": false
   },
   "outputs": [
    {
     "name": "stdout",
     "output_type": "stream",
     "text": [
      "1 loops, best of 3: 2.84 s per loop\n"
     ]
    }
   ],
   "source": [
    "%timeit kdtree.sparse_distance_matrix(other, 4.0, output_type='dict')"
   ]
  },
  {
   "cell_type": "code",
   "execution_count": 76,
   "metadata": {
    "collapsed": false
   },
   "outputs": [
    {
     "name": "stdout",
     "output_type": "stream",
     "text": [
      "1 loops, best of 3: 2.53 s per loop\n"
     ]
    }
   ],
   "source": [
    "%timeit kdtree.sparse_distance_matrix(other, 4.0, output_type='recarray')"
   ]
  },
  {
   "cell_type": "markdown",
   "metadata": {},
   "source": [
    "####PR4890 - median"
   ]
  },
  {
   "cell_type": "code",
   "execution_count": 77,
   "metadata": {
    "collapsed": true
   },
   "outputs": [],
   "source": [
    "kdtree = spatial_PR4890.cKDTree(data0, balanced_tree=True)\n",
    "other = spatial_PR4890.cKDTree(data1, balanced_tree=True)"
   ]
  },
  {
   "cell_type": "code",
   "execution_count": 78,
   "metadata": {
    "collapsed": false
   },
   "outputs": [
    {
     "name": "stdout",
     "output_type": "stream",
     "text": [
      "1 loops, best of 3: 3.18 s per loop\n"
     ]
    }
   ],
   "source": [
    "%timeit kdtree.sparse_distance_matrix(other, 4.0, output_type='dok_matrix')"
   ]
  },
  {
   "cell_type": "code",
   "execution_count": 79,
   "metadata": {
    "collapsed": false
   },
   "outputs": [
    {
     "name": "stdout",
     "output_type": "stream",
     "text": [
      "1 loops, best of 3: 2.58 s per loop\n"
     ]
    }
   ],
   "source": [
    "%timeit kdtree.sparse_distance_matrix(other, 4.0, output_type='coo_matrix')"
   ]
  },
  {
   "cell_type": "code",
   "execution_count": 80,
   "metadata": {
    "collapsed": false
   },
   "outputs": [
    {
     "name": "stdout",
     "output_type": "stream",
     "text": [
      "1 loops, best of 3: 2.89 s per loop\n"
     ]
    }
   ],
   "source": [
    "%timeit kdtree.sparse_distance_matrix(other, 4.0, output_type='dict')"
   ]
  },
  {
   "cell_type": "code",
   "execution_count": 81,
   "metadata": {
    "collapsed": false
   },
   "outputs": [
    {
     "name": "stdout",
     "output_type": "stream",
     "text": [
      "1 loops, best of 3: 2.55 s per loop\n"
     ]
    }
   ],
   "source": [
    "%timeit kdtree.sparse_distance_matrix(other, 4.0, output_type='recarray')"
   ]
  }
 ],
 "metadata": {
  "kernelspec": {
   "display_name": "Python 3",
   "language": "python",
   "name": "python3"
  },
  "language_info": {
   "codemirror_mode": {
    "name": "ipython",
    "version": 3
   },
   "file_extension": ".py",
   "mimetype": "text/x-python",
   "name": "python",
   "nbconvert_exporter": "python",
   "pygments_lexer": "ipython3",
   "version": "3.4.3"
  }
 },
 "nbformat": 4,
 "nbformat_minor": 0
}
